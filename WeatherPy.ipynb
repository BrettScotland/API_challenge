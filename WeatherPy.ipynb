{
 "cells": [
  {
   "cell_type": "markdown",
   "metadata": {},
   "source": [
    "# WeatherPy\n",
    "----\n",
    "\n",
    "#### Note\n",
    "* Instructions have been included for each segment. You do not have to follow them exactly, but they are included to help you think through the steps."
   ]
  },
  {
   "cell_type": "code",
   "execution_count": 7,
   "metadata": {
    "scrolled": true
   },
   "outputs": [],
   "source": [
    "# Dependencies\n",
    "import numpy as np\n",
    "import pandas as pd\n",
    "import scipy.stats as st\n",
    "from matplotlib import pyplot as plt\n",
    "from citipy import citipy\n",
    "import requests\n",
    "from config import api_key"
   ]
  },
  {
   "cell_type": "markdown",
   "metadata": {},
   "source": [
    "## Generate Cities List"
   ]
  },
  {
   "cell_type": "code",
   "execution_count": 5,
   "metadata": {},
   "outputs": [],
   "source": [
    "lat_data = np.random.uniform(-90, 90, size = 1500)\n",
    "lng_data = np.random.uniform(-180, 180, size = 1500)\n",
    "\n",
    "city_list = []\n",
    "\n",
    "for x in range (0, 1500):\n",
    "    city = citipy.nearest_city(lat_data[x], lng_data[x])\n",
    "    city_list.append(city.city_name)\n",
    "    \n",
    "city_list = list(set(city_list))"
   ]
  },
  {
   "cell_type": "markdown",
   "metadata": {},
   "source": [
    "### Perform API Calls\n",
    "* Perform a weather check on each city using a series of successive API calls.\n",
    "* Include a print log of each city as it'sbeing processed (with the city number and city name).\n"
   ]
  },
  {
   "cell_type": "code",
   "execution_count": 6,
   "metadata": {
    "scrolled": true
   },
   "outputs": [
    {
     "name": "stdout",
     "output_type": "stream",
     "text": [
      "Retrieving data for city number 1. Tiksi\n",
      "Retrieving data for city number 2. Tosya\n",
      "Retrieving data for city number 3. Adré\n",
      "Retrieving data for city number 4. Saint Paul Harbor\n",
      "Retrieving data for city number 5. Sault Ste. Marie\n",
      "Retrieving data for city number 6. Broome\n",
      "Retrieving data for city number 7. Guarujá\n",
      "Retrieving data for city number 9. Ostrovnoy\n",
      "Retrieving data for city number 10. Port Alberni\n",
      "Retrieving data for city number 11. Yerköy\n",
      "Retrieving data for city number 12. Anloga\n",
      "Retrieving data for city number 13. Caravelas\n",
      "Retrieving data for city number 15. Grindavik\n",
      "Retrieving data for city number 16. Lorengau\n",
      "Retrieving data for city number 17. Albox\n",
      "Retrieving data for city number 18. Chantada\n",
      "Retrieving data for city number 19. Río Gallegos\n",
      "Retrieving data for city number 20. Pangkalanbuun\n",
      "Retrieving data for city number 21. Paamiut\n",
      "Retrieving data for city number 22. Talavera de la Reina\n",
      "Retrieving data for city number 24. Mahébourg\n",
      "Retrieving data for city number 25. Nhulunbuy\n",
      "Retrieving data for city number 26. Puerto Colombia\n",
      "Retrieving data for city number 27. Kjøpsvik\n",
      "Retrieving data for city number 28. Ponta do Sol\n",
      "Retrieving data for city number 29. Boa Vista\n",
      "Retrieving data for city number 30. Ossora\n",
      "Retrieving data for city number 31. Atuona\n",
      "Retrieving data for city number 32. Lubango\n",
      "Retrieving data for city number 33. Padang\n",
      "Retrieving data for city number 34. Hong Kong\n",
      "Retrieving data for city number 35. Hāgere Selam\n",
      "Retrieving data for city number 36. Iqaluit\n",
      "Retrieving data for city number 37. Newtownards\n",
      "Retrieving data for city number 38. Gizo Government Station\n",
      "Retrieving data for city number 39. Henties Bay\n",
      "Retrieving data for city number 40. Orán\n",
      "Retrieving data for city number 41. Wasilla\n",
      "Retrieving data for city number 42. Ha Giang\n",
      "Retrieving data for city number 43. Mar del Plata\n",
      "Retrieving data for city number 44. Zhigansk\n",
      "Retrieving data for city number 45. Kortkeros\n",
      "Retrieving data for city number 47. Thompson\n",
      "Retrieving data for city number 49. Saldanha\n",
      "Retrieving data for city number 50. Mandera\n",
      "Retrieving data for city number 51. Puerto Ayora\n",
      "Retrieving data for city number 52. Tongzi\n",
      "Retrieving data for city number 53. Iskateley\n",
      "Retrieving data for city number 54. Mogadishu\n",
      "Retrieving data for city number 55. Bridlington\n",
      "Retrieving data for city number 57. Krasnyy Chikoy\n",
      "Retrieving data for city number 58. Pine Bluff\n",
      "Retrieving data for city number 59. Hermanus\n",
      "Retrieving data for city number 60. Ontario\n",
      "Retrieving data for city number 61. Mackay\n",
      "Retrieving data for city number 62. Vrangel'\n",
      "Retrieving data for city number 63. Nanortalik\n",
      "Retrieving data for city number 64. Selty\n",
      "Retrieving data for city number 65. Kousséri\n",
      "Retrieving data for city number 66. Kenai\n",
      "Retrieving data for city number 67. Hirara\n",
      "Retrieving data for city number 70. Hazro City\n",
      "Retrieving data for city number 71. Ternate\n",
      "Retrieving data for city number 72. Havre-St-Pierre\n",
      "Retrieving data for city number 73. Brae\n",
      "Retrieving data for city number 74. Guilin\n",
      "Retrieving data for city number 76. Mbala\n",
      "Retrieving data for city number 77. Radford\n",
      "Retrieving data for city number 78. Fiumicino\n",
      "Retrieving data for city number 80. Fuerte Olimpo\n",
      "Retrieving data for city number 81. Dakar\n",
      "Retrieving data for city number 82. Esim\n",
      "Retrieving data for city number 83. Praxédis Guerrero\n",
      "Retrieving data for city number 84. Jingdezhen\n",
      "Retrieving data for city number 85. Flinders\n",
      "Retrieving data for city number 86. Dzerzhinsk\n",
      "Retrieving data for city number 87. Beringovskiy\n",
      "Retrieving data for city number 89. Sept-Îles\n",
      "Retrieving data for city number 90. Honiara\n",
      "Retrieving data for city number 91. Vanavara\n",
      "Retrieving data for city number 93. Torbay\n",
      "Retrieving data for city number 94. Tilichiki\n",
      "Retrieving data for city number 95. Yangi Marg`ilon\n",
      "Retrieving data for city number 96. Jalu\n",
      "Retrieving data for city number 97. Tocopilla\n",
      "Retrieving data for city number 98. Hamilton\n",
      "Retrieving data for city number 99. Yorosso\n",
      "Retrieving data for city number 100. ‘Āhuimanu\n",
      "Retrieving data for city number 101. Tasiilaq\n",
      "Retrieving data for city number 102. Tautira\n",
      "Retrieving data for city number 103. Okha\n",
      "Retrieving data for city number 104. Abu Dhabi\n",
      "Retrieving data for city number 105. Qaanaaq\n",
      "Retrieving data for city number 106. Acapulco de Juárez\n",
      "Retrieving data for city number 107. Pocosol\n",
      "Retrieving data for city number 108. Kosh-Agach\n",
      "Retrieving data for city number 109. Seymchan\n",
      "Retrieving data for city number 110. Belmonte\n",
      "Retrieving data for city number 111. Belle Fourche\n",
      "Retrieving data for city number 112. Yarkovo\n",
      "Retrieving data for city number 113. Saddiqabad\n",
      "Retrieving data for city number 114. Fasa\n",
      "Retrieving data for city number 115. Cockburn Town\n",
      "Retrieving data for city number 116. Totness\n",
      "Retrieving data for city number 117. Tual\n",
      "Retrieving data for city number 118. Ilām\n",
      "Retrieving data for city number 119. Methóni\n",
      "Retrieving data for city number 121. Upernavik\n",
      "Retrieving data for city number 122. Isangel\n",
      "Retrieving data for city number 123. Half Moon Bay\n",
      "Retrieving data for city number 124. Aksu\n",
      "Retrieving data for city number 125. Makakilo City\n",
      "Retrieving data for city number 127. Aykhal\n",
      "Retrieving data for city number 128. Sabha\n",
      "Retrieving data for city number 129. Claveria\n",
      "Retrieving data for city number 130. Leningradskiy\n",
      "Retrieving data for city number 131. Salalah\n",
      "Retrieving data for city number 132. Nador\n",
      "Retrieving data for city number 134. Gold Coast\n",
      "Retrieving data for city number 135. Ixtapa\n",
      "Retrieving data for city number 136. Port Alfred\n",
      "Retrieving data for city number 137. Broken Hill\n",
      "Retrieving data for city number 138. Luwuk\n",
      "Retrieving data for city number 139. Tombouctou\n",
      "Retrieving data for city number 140. Wahpeton\n",
      "Retrieving data for city number 141. Luena\n",
      "Retrieving data for city number 142. Kjøllefjord\n",
      "Retrieving data for city number 143. Berdigestyakh\n",
      "Retrieving data for city number 145. Vitim\n",
      "Retrieving data for city number 146. Liaoyang\n",
      "Retrieving data for city number 147. Whitehorse\n",
      "Retrieving data for city number 148. Natal'insk\n",
      "Retrieving data for city number 149. Sokoto\n",
      "Retrieving data for city number 150. Fare\n",
      "Retrieving data for city number 151. Port Hedland\n",
      "Retrieving data for city number 152. Vardø\n",
      "Retrieving data for city number 154. Harper\n",
      "Retrieving data for city number 155. Behbahān\n",
      "Retrieving data for city number 156. Ahipara\n",
      "Retrieving data for city number 157. Morant Bay\n",
      "Retrieving data for city number 158. Yar-Sale\n",
      "Retrieving data for city number 159. Adrar\n",
      "Retrieving data for city number 160. Darłowo\n",
      "Retrieving data for city number 162. Esperance\n",
      "Retrieving data for city number 163. Saint-Augustin\n",
      "Retrieving data for city number 164. Sonoita\n",
      "Retrieving data for city number 165. Hibbing\n",
      "Retrieving data for city number 166. Bredasdorp\n",
      "Retrieving data for city number 167. Saint George\n",
      "Retrieving data for city number 168. Pacific Grove\n",
      "Retrieving data for city number 169. Agadez\n",
      "Retrieving data for city number 170. Kulhudhuffushi\n",
      "Retrieving data for city number 171. Hailar\n",
      "Retrieving data for city number 172. Tuatapere\n",
      "Retrieving data for city number 173. Antofagasta\n",
      "Retrieving data for city number 174. Waliso\n",
      "Retrieving data for city number 175. Naryan-Mar\n",
      "Retrieving data for city number 176. Ginda\n",
      "Retrieving data for city number 177. Itarema\n",
      "Retrieving data for city number 178. Rabo de Peixe\n",
      "Retrieving data for city number 179. Vestmannaeyjar\n",
      "Retrieving data for city number 180. Zhangye\n",
      "Retrieving data for city number 181. Ayan\n",
      "Retrieving data for city number 182. Severo-Kuril'sk\n",
      "Retrieving data for city number 183. Muskegon\n",
      "Retrieving data for city number 184. Emerald\n",
      "Retrieving data for city number 185. Ketchikan\n",
      "Retrieving data for city number 186. Khatanga\n",
      "Retrieving data for city number 187. Vrå\n",
      "Retrieving data for city number 188. Alofi\n",
      "Retrieving data for city number 189. Manggar\n",
      "Retrieving data for city number 190. Bairiki Village\n",
      "Retrieving data for city number 191. Talaya\n",
      "Retrieving data for city number 192. Aklavik\n",
      "Retrieving data for city number 193. Ukiah\n",
      "Retrieving data for city number 194. Puerto Rico\n",
      "Retrieving data for city number 195. Coahuayana Viejo\n",
      "Retrieving data for city number 196. Smithers\n"
     ]
    },
    {
     "name": "stdout",
     "output_type": "stream",
     "text": [
      "Retrieving data for city number 197. Los Palmitos\n",
      "Retrieving data for city number 198. Phalaborwa\n",
      "Retrieving data for city number 199. Bay Roberts\n",
      "Retrieving data for city number 200. Oberstdorf\n",
      "Retrieving data for city number 201. Rawson\n",
      "Retrieving data for city number 202. Valdivia\n",
      "Retrieving data for city number 203. Geraldton\n",
      "Retrieving data for city number 204. Verkhnyaya Inta\n",
      "Retrieving data for city number 206. Husavik\n",
      "Retrieving data for city number 207. Tommot\n",
      "Retrieving data for city number 208. Korla\n",
      "Retrieving data for city number 209. Brejo\n",
      "Retrieving data for city number 210. Ibrā’\n",
      "Retrieving data for city number 211. Atlantic City\n",
      "Retrieving data for city number 212. Dingle\n",
      "Retrieving data for city number 213. Labuhan\n",
      "Retrieving data for city number 215. Christchurch\n",
      "Retrieving data for city number 216. Touros\n",
      "Retrieving data for city number 217. Karratha\n",
      "Retrieving data for city number 218. Waiouru\n",
      "Retrieving data for city number 219. Litovko\n",
      "Retrieving data for city number 220. Chuchkovo\n",
      "Retrieving data for city number 221. Kapit\n",
      "Retrieving data for city number 222. Mayo\n",
      "Retrieving data for city number 223. Vytegra\n",
      "Retrieving data for city number 224. Santa Cruz de la Sierra\n",
      "Retrieving data for city number 225. Nishihara\n",
      "Retrieving data for city number 226. Moctezuma\n",
      "Retrieving data for city number 227. Vila Franca do Campo\n",
      "Retrieving data for city number 228. Srednekolymsk\n",
      "Retrieving data for city number 229. Magole\n",
      "Retrieving data for city number 230. Linqiong\n",
      "Retrieving data for city number 231. Noumea\n",
      "Retrieving data for city number 232. Fortuna\n",
      "Retrieving data for city number 233. Yulara\n",
      "Retrieving data for city number 234. Murud\n",
      "Retrieving data for city number 235. Hambantota\n",
      "Retrieving data for city number 236. Bogandé\n",
      "Retrieving data for city number 239. Merauke\n",
      "Retrieving data for city number 240. Port Elizabeth\n",
      "Retrieving data for city number 241. San Jose de Guanipa\n",
      "Retrieving data for city number 242. Ust-Kuyga\n",
      "Retrieving data for city number 243. Antalaha\n",
      "Retrieving data for city number 244. Goderich\n",
      "Retrieving data for city number 245. Ambanja\n",
      "Retrieving data for city number 246. Bathsheba\n",
      "Retrieving data for city number 247. Dolores\n",
      "Retrieving data for city number 248. Alexandria\n",
      "Retrieving data for city number 249. Saint-Joseph\n",
      "Retrieving data for city number 250. Fukuechō\n",
      "Retrieving data for city number 251. Newport\n",
      "Retrieving data for city number 252. Rikitea\n",
      "Retrieving data for city number 253. Lagoa\n",
      "Retrieving data for city number 254. Zuénoula\n",
      "Retrieving data for city number 255. Mehamn\n",
      "Retrieving data for city number 256. Erdenet\n",
      "Retrieving data for city number 257. Porto Santo\n",
      "Retrieving data for city number 258. Constitución\n",
      "Retrieving data for city number 259. Kunming\n",
      "Retrieving data for city number 260. Albany\n",
      "Retrieving data for city number 261. Pendra\n",
      "Retrieving data for city number 262. Jumla\n",
      "Retrieving data for city number 263. Carnarvon\n",
      "Retrieving data for city number 264. Kutum\n",
      "Retrieving data for city number 265. Heraclea\n",
      "Retrieving data for city number 266. George Town\n",
      "Retrieving data for city number 267. Ürümqi\n",
      "Retrieving data for city number 268. Quime\n",
      "Retrieving data for city number 269. Waingapu\n",
      "Retrieving data for city number 270. Puro\n",
      "Retrieving data for city number 271. Northam\n",
      "Retrieving data for city number 272. Soe\n",
      "Retrieving data for city number 273. Tiarei\n",
      "Retrieving data for city number 274. Lake Cowichan\n",
      "Retrieving data for city number 275. Mendeleyevsk\n",
      "Retrieving data for city number 276. Yining\n",
      "Retrieving data for city number 277. Coyhaique\n",
      "Retrieving data for city number 278. Batouri\n",
      "Retrieving data for city number 279. Ugoofaaru\n",
      "Retrieving data for city number 280. Busselton\n",
      "Retrieving data for city number 281. Hūn\n",
      "Retrieving data for city number 283. Toma\n",
      "Retrieving data for city number 284. Usinsk\n",
      "Retrieving data for city number 285. Coos Bay\n",
      "Retrieving data for city number 286. Aracruz\n",
      "Retrieving data for city number 287. Poso\n",
      "Retrieving data for city number 288. Porbandar\n",
      "Retrieving data for city number 289. Bowling Green\n",
      "Retrieving data for city number 290. Eyl\n",
      "Retrieving data for city number 291. Gonaïves\n",
      "Retrieving data for city number 292. Hilo\n",
      "Retrieving data for city number 293. Bitung\n",
      "Retrieving data for city number 294. Inhambane\n",
      "Retrieving data for city number 295. Thinadhoo\n",
      "Retrieving data for city number 296. Erdemli\n",
      "Retrieving data for city number 297. Saint Anthony\n",
      "Retrieving data for city number 298. Ocós\n",
      "Retrieving data for city number 300. Samarai\n",
      "Retrieving data for city number 301. Nóvita\n",
      "Retrieving data for city number 302. Urmia\n",
      "Retrieving data for city number 303. Bintulu\n",
      "Retrieving data for city number 304. Jasper\n",
      "Retrieving data for city number 305. Qui Nhon\n",
      "Retrieving data for city number 306. La Ronge\n",
      "Retrieving data for city number 307. Nemuro\n",
      "Retrieving data for city number 308. Deputatsky\n",
      "Retrieving data for city number 309. Villamontes\n",
      "Retrieving data for city number 310. Norman Wells\n",
      "Retrieving data for city number 311. Makīnsk\n",
      "Retrieving data for city number 312. Kampot\n",
      "Retrieving data for city number 313. Balkhash\n",
      "Retrieving data for city number 314. Port Hardy\n",
      "Retrieving data for city number 316. Yumen\n",
      "Retrieving data for city number 317. Mazagão\n",
      "Retrieving data for city number 318. Sulangan\n",
      "Retrieving data for city number 319. Kokopo\n",
      "Retrieving data for city number 320. Pevek\n",
      "Retrieving data for city number 321. Havelock\n",
      "Retrieving data for city number 322. Nanding\n",
      "Retrieving data for city number 323. Pālanpur\n",
      "Retrieving data for city number 324. Lata\n",
      "Retrieving data for city number 325. Aripuanã\n",
      "Retrieving data for city number 326. Vaini\n",
      "Retrieving data for city number 327. Kumul\n",
      "Retrieving data for city number 328. Buluang\n",
      "Retrieving data for city number 329. Provideniya\n",
      "Retrieving data for city number 330. Vágur\n",
      "Retrieving data for city number 331. Bambous Virieux\n",
      "Retrieving data for city number 332. Hede\n",
      "Retrieving data for city number 333. Bogorodskoye\n",
      "Retrieving data for city number 334. Nadym\n",
      "Retrieving data for city number 335. Taltal\n",
      "Retrieving data for city number 336. Sheltozero\n",
      "Retrieving data for city number 337. Aksarka\n",
      "Retrieving data for city number 338. Iquique\n",
      "Retrieving data for city number 339. Luanda\n",
      "Retrieving data for city number 340. Ballina\n",
      "Retrieving data for city number 341. Llaillay\n",
      "Retrieving data for city number 342. Kiunga\n",
      "Retrieving data for city number 343. Myre\n",
      "Retrieving data for city number 344. Cidreira\n",
      "Retrieving data for city number 345. Souillac\n",
      "Retrieving data for city number 347. Yong’an\n",
      "Retrieving data for city number 348. Hanna\n",
      "Retrieving data for city number 349. Bengkulu\n",
      "Retrieving data for city number 350. Genhe\n",
      "Retrieving data for city number 352. Bilma\n",
      "Retrieving data for city number 353. Tomatlán\n",
      "Retrieving data for city number 354. Columbus\n",
      "Retrieving data for city number 355. Mogapi\n",
      "Retrieving data for city number 356. San Cristobal\n",
      "Retrieving data for city number 357. Mount Isa\n",
      "Retrieving data for city number 358. El Retorno\n",
      "Retrieving data for city number 359. Yerbogachën\n",
      "Retrieving data for city number 360. Laguna\n",
      "Retrieving data for city number 361. Prince George\n",
      "Retrieving data for city number 362. Remetea\n",
      "Retrieving data for city number 363. Byron Bay\n",
      "Retrieving data for city number 364. Ţahţā\n",
      "Retrieving data for city number 365. Marfino\n",
      "Retrieving data for city number 366. Shubarshi\n",
      "Retrieving data for city number 368. Foz\n",
      "Retrieving data for city number 369. Saskylakh\n",
      "Retrieving data for city number 370. Raja\n",
      "Retrieving data for city number 371. Lüderitz\n",
      "Retrieving data for city number 372. Kirkland Lake\n",
      "Retrieving data for city number 373. Yatou\n",
      "Retrieving data for city number 374. Severo-Yeniseyskiy\n",
      "Retrieving data for city number 376. Ouro Preto do Oeste\n",
      "Retrieving data for city number 377. Sitka\n",
      "Retrieving data for city number 378. Lamar\n",
      "Retrieving data for city number 379. Loreto\n",
      "Retrieving data for city number 380. Port Lincoln\n",
      "Retrieving data for city number 381. Kavaratti\n",
      "Retrieving data for city number 382. Necochea\n",
      "Retrieving data for city number 383. Camopi\n",
      "Retrieving data for city number 384. Maiduguri\n",
      "Retrieving data for city number 386. Gushikawa\n",
      "Retrieving data for city number 387. Tygda\n"
     ]
    },
    {
     "name": "stdout",
     "output_type": "stream",
     "text": [
      "Retrieving data for city number 388. Manta\n",
      "Retrieving data for city number 389. Codrington\n",
      "Retrieving data for city number 390. Manicoré\n",
      "Retrieving data for city number 391. Lebu\n",
      "Retrieving data for city number 392. Den Helder\n",
      "Retrieving data for city number 393. Mauá\n",
      "Retrieving data for city number 394. Hastings\n",
      "Retrieving data for city number 395. Lima\n",
      "Retrieving data for city number 396. Salisbury\n",
      "Retrieving data for city number 397. Vanimo\n",
      "Retrieving data for city number 398. Kloulklubed\n",
      "Retrieving data for city number 399. Bluff\n",
      "Retrieving data for city number 400. Larsnes\n",
      "Retrieving data for city number 401. Butaritari\n",
      "Retrieving data for city number 402. Prado\n",
      "Retrieving data for city number 404. Lincoln\n",
      "Retrieving data for city number 405. Clyde River\n",
      "Retrieving data for city number 406. Agirish\n",
      "Retrieving data for city number 407. Quryq\n",
      "Retrieving data for city number 408. Tabas\n",
      "Retrieving data for city number 409. Parkland\n",
      "Retrieving data for city number 410. Cayenne\n",
      "Retrieving data for city number 411. Pisco\n",
      "Retrieving data for city number 412. Soyo\n",
      "Retrieving data for city number 413. Blagoyevo\n",
      "Retrieving data for city number 414. San Policarpo\n",
      "Retrieving data for city number 415. Casma\n",
      "Retrieving data for city number 416. Dikson\n",
      "Retrieving data for city number 417. Warrington\n",
      "Retrieving data for city number 418. Calama\n",
      "Retrieving data for city number 419. Tahoua\n",
      "Retrieving data for city number 420. Lamu\n",
      "Retrieving data for city number 421. Longyearbyen\n",
      "Retrieving data for city number 423. Kiryat Gat\n",
      "Retrieving data for city number 424. Ancud\n",
      "Retrieving data for city number 425. Mataura\n",
      "Retrieving data for city number 426. Abu Samrah\n",
      "Retrieving data for city number 427. Inírida\n",
      "Retrieving data for city number 428. Takoradze\n",
      "Retrieving data for city number 429. Chicama\n",
      "Retrieving data for city number 430. Dahra\n",
      "Retrieving data for city number 431. Kiama\n",
      "Retrieving data for city number 432. José Bonifácio\n",
      "Retrieving data for city number 433. Bad Wurzach\n",
      "Retrieving data for city number 434. Ilulissat\n",
      "Retrieving data for city number 436. Namatanai\n",
      "Retrieving data for city number 437. Departamento de Maldonado\n",
      "Retrieving data for city number 438. Olafsvik\n",
      "Retrieving data for city number 439. Faanui\n",
      "Retrieving data for city number 440. Fort Nelson\n",
      "Retrieving data for city number 441. Ubari\n",
      "Retrieving data for city number 442. Michigan City\n",
      "Retrieving data for city number 443. Fairbanks\n",
      "Retrieving data for city number 445. Dryden\n",
      "Retrieving data for city number 446. Jamestown\n",
      "Retrieving data for city number 447. Tarogong\n",
      "Retrieving data for city number 449. Verkhnevilyuysk\n",
      "Retrieving data for city number 450. Airai\n",
      "Retrieving data for city number 451. Vazante\n",
      "Retrieving data for city number 452. Tokonou\n",
      "Retrieving data for city number 453. Cape Town\n",
      "Retrieving data for city number 454. Cap-aux-Meules\n",
      "Retrieving data for city number 455. Ulaangom\n",
      "Retrieving data for city number 456. Kalcheva\n",
      "Retrieving data for city number 457. College\n",
      "Retrieving data for city number 458. Vengerovo\n",
      "Retrieving data for city number 459. East London\n",
      "Retrieving data for city number 460. Castro\n",
      "Retrieving data for city number 461. Elko\n",
      "Retrieving data for city number 462. Mahibadhoo\n",
      "Retrieving data for city number 463. Kuytun\n",
      "Retrieving data for city number 464. Port Macquarie\n",
      "Retrieving data for city number 465. Lakes Entrance\n",
      "Retrieving data for city number 466. Safi\n",
      "Retrieving data for city number 467. Klaksvík\n",
      "Retrieving data for city number 468. Cabo San Lucas\n",
      "Retrieving data for city number 469. Waipawa\n",
      "Retrieving data for city number 470. Chara\n",
      "Retrieving data for city number 471. Opunake\n",
      "Retrieving data for city number 472. Tungor\n",
      "Retrieving data for city number 473. Hualmay\n",
      "Retrieving data for city number 474. Yeniseysk\n",
      "Retrieving data for city number 475. Egvekinot\n",
      "Retrieving data for city number 477. Avarua\n",
      "Retrieving data for city number 478. Palafrugell\n",
      "Retrieving data for city number 479. Assiut\n",
      "Retrieving data for city number 480. Yellowknife\n",
      "Retrieving data for city number 483. Wanning\n",
      "Retrieving data for city number 485. Arkhara\n",
      "Retrieving data for city number 486. Ulladulla\n",
      "Retrieving data for city number 487. Baryshivka\n",
      "Retrieving data for city number 488. Watsa\n",
      "Retrieving data for city number 489. San Patricio\n",
      "Retrieving data for city number 490. Chokurdakh\n",
      "Retrieving data for city number 491. Ulaanbaatar\n",
      "Retrieving data for city number 492. Ağdaş\n",
      "Retrieving data for city number 493. Arlit\n",
      "Retrieving data for city number 494. Hobart\n",
      "Retrieving data for city number 495. Poum\n",
      "Retrieving data for city number 496. Bambanglipuro\n",
      "Retrieving data for city number 497. Tuktoyaktuk\n",
      "Retrieving data for city number 498. Kruisfontein\n",
      "Retrieving data for city number 499. Omagh\n",
      "Retrieving data for city number 500. Naze\n",
      "Retrieving data for city number 501. Fallon\n",
      "Retrieving data for city number 502. Glenwood Springs\n",
      "Retrieving data for city number 503. Opuwo\n",
      "Retrieving data for city number 504. Guangyuan\n",
      "Retrieving data for city number 505. Lavrentiya\n",
      "Retrieving data for city number 506. Beeville\n",
      "Retrieving data for city number 507. Novoagansk\n",
      "Retrieving data for city number 508. Atar\n",
      "Retrieving data for city number 509. Birao\n",
      "Retrieving data for city number 510. Gachsaran\n",
      "Retrieving data for city number 511. Kieta\n",
      "Retrieving data for city number 512. Teresópolis\n",
      "Retrieving data for city number 513. Lompoc\n",
      "Retrieving data for city number 514. Kahului\n",
      "Retrieving data for city number 515. Cap Malheureux\n",
      "Retrieving data for city number 516. Beloha\n",
      "Retrieving data for city number 517. Khuzhir\n",
      "Retrieving data for city number 518. San Jose\n",
      "Retrieving data for city number 519. Ponta Delgada\n",
      "Retrieving data for city number 520. Haines Junction\n",
      "Retrieving data for city number 521. Mapiripán\n",
      "Retrieving data for city number 522. Jardim\n",
      "Retrieving data for city number 523. Daru\n",
      "Retrieving data for city number 524. Miajadas\n",
      "Retrieving data for city number 525. Joshīmath\n",
      "Retrieving data for city number 526. Comodoro Rivadavia\n",
      "Retrieving data for city number 527. Ola\n",
      "Retrieving data for city number 528. Charters Towers\n",
      "Retrieving data for city number 529. Smirnykh\n",
      "Retrieving data for city number 531. Shaunavon\n",
      "Retrieving data for city number 532. Bol'shoye Selo\n",
      "Retrieving data for city number 533. Plast\n",
      "Retrieving data for city number 536. São Filipe\n",
      "Retrieving data for city number 537. Te Anau\n",
      "Retrieving data for city number 538. Kavieng\n",
      "Retrieving data for city number 539. Evensk\n",
      "Retrieving data for city number 540. Baker City\n",
      "Retrieving data for city number 541. Mossamedes\n",
      "Retrieving data for city number 542. Hithadhoo\n",
      "Retrieving data for city number 543. Selikhino\n",
      "Retrieving data for city number 544. Lyuban'\n",
      "Retrieving data for city number 545. Kaitangata\n",
      "Retrieving data for city number 546. Pangnirtung\n",
      "Retrieving data for city number 547. Maniitsoq\n",
      "Retrieving data for city number 548. Teguise\n",
      "Retrieving data for city number 549. Yenagoa\n",
      "Retrieving data for city number 550. Hofn\n",
      "Retrieving data for city number 551. Ca Mau\n",
      "Retrieving data for city number 552. Chui\n",
      "Retrieving data for city number 553. Zarya\n",
      "Retrieving data for city number 554. Hay River\n",
      "Retrieving data for city number 555. Hasaki\n",
      "Retrieving data for city number 557. Menongue\n",
      "Retrieving data for city number 558. Haines City\n",
      "Retrieving data for city number 560. Ribeira Grande\n",
      "Retrieving data for city number 561. San Carlos\n",
      "Retrieving data for city number 562. Tekkali\n",
      "Retrieving data for city number 563. Bethel\n",
      "Retrieving data for city number 564. Ampanihy\n",
      "Retrieving data for city number 565. Lázaro Cárdenas\n",
      "Retrieving data for city number 566. Los Llanos de Aridane\n",
      "Retrieving data for city number 567. Lethem\n",
      "Retrieving data for city number 568. Pak Phanang\n",
      "Retrieving data for city number 569. Chalmette\n",
      "Retrieving data for city number 570. Kapaa\n",
      "Retrieving data for city number 571. Umm Kaddadah\n",
      "Retrieving data for city number 572. Cherskiy\n",
      "Retrieving data for city number 573. Narsaq\n",
      "Retrieving data for city number 574. Saint-Philippe\n",
      "Retrieving data for city number 575. New Norfolk\n",
      "Retrieving data for city number 576. Grand Gaube\n",
      "Retrieving data for city number 577. Kovdor\n",
      "Retrieving data for city number 578. Barrow\n"
     ]
    },
    {
     "name": "stdout",
     "output_type": "stream",
     "text": [
      "Retrieving data for city number 579. Turukhansk\n",
      "Retrieving data for city number 580. Port-Cartier\n",
      "Retrieving data for city number 581. Si Sa Ket\n",
      "Retrieving data for city number 582. Nyurba\n",
      "Retrieving data for city number 583. Volkach\n",
      "Retrieving data for city number 584. North Platte\n",
      "Retrieving data for city number 585. Kudahuvadhoo\n",
      "Retrieving data for city number 586. Codigoro\n",
      "Retrieving data for city number 587. Kambove\n",
      "Retrieving data for city number 588. Talnakh\n",
      "Retrieving data for city number 589. Verāval\n",
      "Retrieving data for city number 590. Punta Arenas\n",
      "Retrieving data for city number 591. Arraial do Cabo\n",
      "Retrieving data for city number 592. Morón\n",
      "Retrieving data for city number 593. Nikolskoye\n",
      "Retrieving data for city number 594. Krasnosel'kup\n",
      "Retrieving data for city number 595. Xining\n",
      "Retrieving data for city number 596. Avera\n",
      "Retrieving data for city number 597. Yazman\n",
      "Retrieving data for city number 598. Ushuaia\n",
      "Retrieving data for city number 599. Cottbus\n",
      "Retrieving data for city number 600. Guerrero Negro\n",
      "Retrieving data for city number 601. Tolland\n",
      "Retrieving data for city number 602. Gawler\n",
      "Retrieving data for city number 603. Camacha\n",
      "Retrieving data for city number 604. Portobelo\n",
      "Retrieving data for city number 605. Muroto-misakicho\n"
     ]
    }
   ],
   "source": [
    "# Create DataFrame with cities list and empty column values\n",
    "df = pd.DataFrame({\"City\": city_list,\n",
    "                 \"Lat\": \"\",\n",
    "                  \"Lng\": \"\",\n",
    "                  \"Max Temp\": \"\",\n",
    "                  \"Humidity\": \"\",\n",
    "                  \"Cloudiness\": \"\",\n",
    "                  \"Wind Speed\": \"\",\n",
    "                  \"Country\": \"\",\n",
    "                  \"Date\": \"\"})\n",
    "\n",
    "# Fill other column values\n",
    "for index, row in df.iterrows():\n",
    "    url = \"http://api.openweathermap.org/data/2.5/weather?\"\n",
    "    \n",
    "    City = row[\"City\"]\n",
    "    \n",
    "    params = {\"q\": City,\n",
    "          \"units\": \"metric\",\n",
    "         \"appid\": api_key}\n",
    "    \n",
    "    try:\n",
    "        weather = (requests.get(url, params = params)).json()\n",
    "        \n",
    "        df.loc[index, \"Lat\"] = weather[\"coord\"][\"lat\"]\n",
    "        df.loc[index, \"Lng\"] = weather[\"coord\"][\"lon\"]\n",
    "        df.loc[index, \"Max Temp\"] = weather[\"main\"][\"temp_max\"]\n",
    "        df.loc[index, \"Humidity\"] = weather[\"main\"][\"humidity\"]\n",
    "        df.loc[index, \"Cloudiness\"] = weather[\"clouds\"][\"all\"]\n",
    "        df.loc[index, \"Wind Speed\"] = weather[\"wind\"][\"speed\"]\n",
    "        df.loc[index, \"Country\"] = weather[\"sys\"][\"country\"]\n",
    "        df.loc[index, \"Date\"] = weather[\"dt\"]\n",
    "        \n",
    "        print(\"Retrieving data for city number \" + str((index + 1)) + \". \" + weather[\"name\"])\n",
    "        \n",
    "    except (KeyError, IndexError):\n",
    "        pass"
   ]
  },
  {
   "cell_type": "code",
   "execution_count": null,
   "metadata": {},
   "outputs": [],
   "source": []
  },
  {
   "cell_type": "markdown",
   "metadata": {},
   "source": [
    "### Convert Raw Data to DataFrame\n",
    "* Export the city data into a .csv.\n",
    "* Display the DataFrame"
   ]
  },
  {
   "cell_type": "code",
   "execution_count": 7,
   "metadata": {},
   "outputs": [],
   "source": [
    "df.to_csv(\"Global_weather.csv\")"
   ]
  },
  {
   "cell_type": "code",
   "execution_count": 8,
   "metadata": {},
   "outputs": [
    {
     "data": {
      "text/html": [
       "<div>\n",
       "<style scoped>\n",
       "    .dataframe tbody tr th:only-of-type {\n",
       "        vertical-align: middle;\n",
       "    }\n",
       "\n",
       "    .dataframe tbody tr th {\n",
       "        vertical-align: top;\n",
       "    }\n",
       "\n",
       "    .dataframe thead th {\n",
       "        text-align: right;\n",
       "    }\n",
       "</style>\n",
       "<table border=\"1\" class=\"dataframe\">\n",
       "  <thead>\n",
       "    <tr style=\"text-align: right;\">\n",
       "      <th></th>\n",
       "      <th>City</th>\n",
       "      <th>Lat</th>\n",
       "      <th>Lng</th>\n",
       "      <th>Max Temp</th>\n",
       "      <th>Humidity</th>\n",
       "      <th>Cloudiness</th>\n",
       "      <th>Wind Speed</th>\n",
       "      <th>Country</th>\n",
       "      <th>Date</th>\n",
       "    </tr>\n",
       "  </thead>\n",
       "  <tbody>\n",
       "    <tr>\n",
       "      <th>0</th>\n",
       "      <td>tiksi</td>\n",
       "      <td>71.6872</td>\n",
       "      <td>128.869</td>\n",
       "      <td>-37.02</td>\n",
       "      <td>84</td>\n",
       "      <td>68</td>\n",
       "      <td>1.64</td>\n",
       "      <td>RU</td>\n",
       "      <td>1610598922</td>\n",
       "    </tr>\n",
       "    <tr>\n",
       "      <th>1</th>\n",
       "      <td>tosya</td>\n",
       "      <td>41.0155</td>\n",
       "      <td>34.0401</td>\n",
       "      <td>3.23</td>\n",
       "      <td>82</td>\n",
       "      <td>100</td>\n",
       "      <td>1.37</td>\n",
       "      <td>TR</td>\n",
       "      <td>1610598922</td>\n",
       "    </tr>\n",
       "    <tr>\n",
       "      <th>2</th>\n",
       "      <td>adre</td>\n",
       "      <td>13.4667</td>\n",
       "      <td>22.2</td>\n",
       "      <td>16.47</td>\n",
       "      <td>30</td>\n",
       "      <td>0</td>\n",
       "      <td>6.83</td>\n",
       "      <td>TD</td>\n",
       "      <td>1610598922</td>\n",
       "    </tr>\n",
       "    <tr>\n",
       "      <th>3</th>\n",
       "      <td>kodiak</td>\n",
       "      <td>57.79</td>\n",
       "      <td>-152.407</td>\n",
       "      <td>-1</td>\n",
       "      <td>86</td>\n",
       "      <td>1</td>\n",
       "      <td>3.57</td>\n",
       "      <td>US</td>\n",
       "      <td>1610598923</td>\n",
       "    </tr>\n",
       "    <tr>\n",
       "      <th>4</th>\n",
       "      <td>sault sainte marie</td>\n",
       "      <td>46.5168</td>\n",
       "      <td>-84.3333</td>\n",
       "      <td>0</td>\n",
       "      <td>93</td>\n",
       "      <td>90</td>\n",
       "      <td>2.06</td>\n",
       "      <td>CA</td>\n",
       "      <td>1610598637</td>\n",
       "    </tr>\n",
       "  </tbody>\n",
       "</table>\n",
       "</div>"
      ],
      "text/plain": [
       "                 City      Lat      Lng Max Temp Humidity Cloudiness  \\\n",
       "0               tiksi  71.6872  128.869   -37.02       84         68   \n",
       "1               tosya  41.0155  34.0401     3.23       82        100   \n",
       "2                adre  13.4667     22.2    16.47       30          0   \n",
       "3              kodiak    57.79 -152.407       -1       86          1   \n",
       "4  sault sainte marie  46.5168 -84.3333        0       93         90   \n",
       "\n",
       "  Wind Speed Country        Date  \n",
       "0       1.64      RU  1610598922  \n",
       "1       1.37      TR  1610598922  \n",
       "2       6.83      TD  1610598922  \n",
       "3       3.57      US  1610598923  \n",
       "4       2.06      CA  1610598637  "
      ]
     },
     "execution_count": 8,
     "metadata": {},
     "output_type": "execute_result"
    }
   ],
   "source": [
    "df.head()"
   ]
  },
  {
   "cell_type": "markdown",
   "metadata": {},
   "source": [
    "## Inspect the data and remove the cities where the humidity > 100%.\n",
    "----\n",
    "Skip this step if there are no cities that have humidity > 100%. "
   ]
  },
  {
   "cell_type": "code",
   "execution_count": 9,
   "metadata": {},
   "outputs": [
    {
     "data": {
      "text/html": [
       "<div>\n",
       "<style scoped>\n",
       "    .dataframe tbody tr th:only-of-type {\n",
       "        vertical-align: middle;\n",
       "    }\n",
       "\n",
       "    .dataframe tbody tr th {\n",
       "        vertical-align: top;\n",
       "    }\n",
       "\n",
       "    .dataframe thead th {\n",
       "        text-align: right;\n",
       "    }\n",
       "</style>\n",
       "<table border=\"1\" class=\"dataframe\">\n",
       "  <thead>\n",
       "    <tr style=\"text-align: right;\">\n",
       "      <th></th>\n",
       "      <th>index</th>\n",
       "      <th>City</th>\n",
       "      <th>Lat</th>\n",
       "      <th>Lng</th>\n",
       "      <th>Max Temp</th>\n",
       "      <th>Humidity</th>\n",
       "      <th>Cloudiness</th>\n",
       "      <th>Wind Speed</th>\n",
       "      <th>Country</th>\n",
       "      <th>Date</th>\n",
       "    </tr>\n",
       "  </thead>\n",
       "  <tbody>\n",
       "    <tr>\n",
       "      <th>0</th>\n",
       "      <td>0</td>\n",
       "      <td>tiksi</td>\n",
       "      <td>71.6872</td>\n",
       "      <td>128.869</td>\n",
       "      <td>-37.02</td>\n",
       "      <td>84</td>\n",
       "      <td>68</td>\n",
       "      <td>1.64</td>\n",
       "      <td>RU</td>\n",
       "      <td>1610598922</td>\n",
       "    </tr>\n",
       "    <tr>\n",
       "      <th>1</th>\n",
       "      <td>1</td>\n",
       "      <td>tosya</td>\n",
       "      <td>41.0155</td>\n",
       "      <td>34.0401</td>\n",
       "      <td>3.23</td>\n",
       "      <td>82</td>\n",
       "      <td>100</td>\n",
       "      <td>1.37</td>\n",
       "      <td>TR</td>\n",
       "      <td>1610598922</td>\n",
       "    </tr>\n",
       "    <tr>\n",
       "      <th>2</th>\n",
       "      <td>2</td>\n",
       "      <td>adre</td>\n",
       "      <td>13.4667</td>\n",
       "      <td>22.2</td>\n",
       "      <td>16.47</td>\n",
       "      <td>30</td>\n",
       "      <td>0</td>\n",
       "      <td>6.83</td>\n",
       "      <td>TD</td>\n",
       "      <td>1610598922</td>\n",
       "    </tr>\n",
       "    <tr>\n",
       "      <th>3</th>\n",
       "      <td>3</td>\n",
       "      <td>kodiak</td>\n",
       "      <td>57.79</td>\n",
       "      <td>-152.407</td>\n",
       "      <td>-1</td>\n",
       "      <td>86</td>\n",
       "      <td>1</td>\n",
       "      <td>3.57</td>\n",
       "      <td>US</td>\n",
       "      <td>1610598923</td>\n",
       "    </tr>\n",
       "    <tr>\n",
       "      <th>4</th>\n",
       "      <td>4</td>\n",
       "      <td>sault sainte marie</td>\n",
       "      <td>46.5168</td>\n",
       "      <td>-84.3333</td>\n",
       "      <td>0</td>\n",
       "      <td>93</td>\n",
       "      <td>90</td>\n",
       "      <td>2.06</td>\n",
       "      <td>CA</td>\n",
       "      <td>1610598637</td>\n",
       "    </tr>\n",
       "  </tbody>\n",
       "</table>\n",
       "</div>"
      ],
      "text/plain": [
       "   index                City      Lat      Lng Max Temp Humidity Cloudiness  \\\n",
       "0      0               tiksi  71.6872  128.869   -37.02       84         68   \n",
       "1      1               tosya  41.0155  34.0401     3.23       82        100   \n",
       "2      2                adre  13.4667     22.2    16.47       30          0   \n",
       "3      3              kodiak    57.79 -152.407       -1       86          1   \n",
       "4      4  sault sainte marie  46.5168 -84.3333        0       93         90   \n",
       "\n",
       "  Wind Speed Country        Date  \n",
       "0       1.64      RU  1610598922  \n",
       "1       1.37      TR  1610598922  \n",
       "2       6.83      TD  1610598922  \n",
       "3       3.57      US  1610598923  \n",
       "4       2.06      CA  1610598637  "
      ]
     },
     "execution_count": 9,
     "metadata": {},
     "output_type": "execute_result"
    }
   ],
   "source": [
    "# Remove cities not found in weather api\n",
    "clean_city_data = df[df[\"Lat\"] != \"\"].reset_index()\n",
    "\n",
    "clean_city_data.head()"
   ]
  },
  {
   "cell_type": "code",
   "execution_count": 10,
   "metadata": {},
   "outputs": [
    {
     "data": {
      "text/html": [
       "<div>\n",
       "<style scoped>\n",
       "    .dataframe tbody tr th:only-of-type {\n",
       "        vertical-align: middle;\n",
       "    }\n",
       "\n",
       "    .dataframe tbody tr th {\n",
       "        vertical-align: top;\n",
       "    }\n",
       "\n",
       "    .dataframe thead th {\n",
       "        text-align: right;\n",
       "    }\n",
       "</style>\n",
       "<table border=\"1\" class=\"dataframe\">\n",
       "  <thead>\n",
       "    <tr style=\"text-align: right;\">\n",
       "      <th></th>\n",
       "      <th>level_0</th>\n",
       "      <th>index</th>\n",
       "      <th>City</th>\n",
       "      <th>Lat</th>\n",
       "      <th>Lng</th>\n",
       "      <th>Max Temp</th>\n",
       "      <th>Humidity</th>\n",
       "      <th>Cloudiness</th>\n",
       "      <th>Wind Speed</th>\n",
       "      <th>Country</th>\n",
       "      <th>Date</th>\n",
       "    </tr>\n",
       "  </thead>\n",
       "  <tbody>\n",
       "    <tr>\n",
       "      <th>0</th>\n",
       "      <td>0</td>\n",
       "      <td>0</td>\n",
       "      <td>tiksi</td>\n",
       "      <td>71.6872</td>\n",
       "      <td>128.869</td>\n",
       "      <td>-37.02</td>\n",
       "      <td>84</td>\n",
       "      <td>68</td>\n",
       "      <td>1.64</td>\n",
       "      <td>RU</td>\n",
       "      <td>1610598922</td>\n",
       "    </tr>\n",
       "    <tr>\n",
       "      <th>1</th>\n",
       "      <td>1</td>\n",
       "      <td>1</td>\n",
       "      <td>tosya</td>\n",
       "      <td>41.0155</td>\n",
       "      <td>34.0401</td>\n",
       "      <td>3.23</td>\n",
       "      <td>82</td>\n",
       "      <td>100</td>\n",
       "      <td>1.37</td>\n",
       "      <td>TR</td>\n",
       "      <td>1610598922</td>\n",
       "    </tr>\n",
       "    <tr>\n",
       "      <th>2</th>\n",
       "      <td>2</td>\n",
       "      <td>2</td>\n",
       "      <td>adre</td>\n",
       "      <td>13.4667</td>\n",
       "      <td>22.2</td>\n",
       "      <td>16.47</td>\n",
       "      <td>30</td>\n",
       "      <td>0</td>\n",
       "      <td>6.83</td>\n",
       "      <td>TD</td>\n",
       "      <td>1610598922</td>\n",
       "    </tr>\n",
       "    <tr>\n",
       "      <th>3</th>\n",
       "      <td>3</td>\n",
       "      <td>3</td>\n",
       "      <td>kodiak</td>\n",
       "      <td>57.79</td>\n",
       "      <td>-152.407</td>\n",
       "      <td>-1</td>\n",
       "      <td>86</td>\n",
       "      <td>1</td>\n",
       "      <td>3.57</td>\n",
       "      <td>US</td>\n",
       "      <td>1610598923</td>\n",
       "    </tr>\n",
       "    <tr>\n",
       "      <th>4</th>\n",
       "      <td>4</td>\n",
       "      <td>4</td>\n",
       "      <td>sault sainte marie</td>\n",
       "      <td>46.5168</td>\n",
       "      <td>-84.3333</td>\n",
       "      <td>0</td>\n",
       "      <td>93</td>\n",
       "      <td>90</td>\n",
       "      <td>2.06</td>\n",
       "      <td>CA</td>\n",
       "      <td>1610598637</td>\n",
       "    </tr>\n",
       "  </tbody>\n",
       "</table>\n",
       "</div>"
      ],
      "text/plain": [
       "   level_0  index                City      Lat      Lng Max Temp Humidity  \\\n",
       "0        0      0               tiksi  71.6872  128.869   -37.02       84   \n",
       "1        1      1               tosya  41.0155  34.0401     3.23       82   \n",
       "2        2      2                adre  13.4667     22.2    16.47       30   \n",
       "3        3      3              kodiak    57.79 -152.407       -1       86   \n",
       "4        4      4  sault sainte marie  46.5168 -84.3333        0       93   \n",
       "\n",
       "  Cloudiness Wind Speed Country        Date  \n",
       "0         68       1.64      RU  1610598922  \n",
       "1        100       1.37      TR  1610598922  \n",
       "2          0       6.83      TD  1610598922  \n",
       "3          1       3.57      US  1610598923  \n",
       "4         90       2.06      CA  1610598637  "
      ]
     },
     "execution_count": 10,
     "metadata": {},
     "output_type": "execute_result"
    }
   ],
   "source": [
    "#  Remove cities with humidity > 100%\n",
    "clean_city_data = clean_city_data[clean_city_data[\"Humidity\"] < 101].reset_index()\n",
    "clean_city_data.head()"
   ]
  },
  {
   "cell_type": "code",
   "execution_count": 11,
   "metadata": {},
   "outputs": [
    {
     "data": {
      "text/html": [
       "<div>\n",
       "<style scoped>\n",
       "    .dataframe tbody tr th:only-of-type {\n",
       "        vertical-align: middle;\n",
       "    }\n",
       "\n",
       "    .dataframe tbody tr th {\n",
       "        vertical-align: top;\n",
       "    }\n",
       "\n",
       "    .dataframe thead th {\n",
       "        text-align: right;\n",
       "    }\n",
       "</style>\n",
       "<table border=\"1\" class=\"dataframe\">\n",
       "  <thead>\n",
       "    <tr style=\"text-align: right;\">\n",
       "      <th></th>\n",
       "      <th>City</th>\n",
       "      <th>Lat</th>\n",
       "      <th>Lng</th>\n",
       "      <th>Max Temp</th>\n",
       "      <th>Humidity</th>\n",
       "      <th>Cloudiness</th>\n",
       "      <th>Wind Speed</th>\n",
       "      <th>Country</th>\n",
       "      <th>Date</th>\n",
       "    </tr>\n",
       "  </thead>\n",
       "  <tbody>\n",
       "    <tr>\n",
       "      <th>0</th>\n",
       "      <td>tiksi</td>\n",
       "      <td>71.6872</td>\n",
       "      <td>128.869</td>\n",
       "      <td>-37.02</td>\n",
       "      <td>84</td>\n",
       "      <td>68</td>\n",
       "      <td>1.64</td>\n",
       "      <td>RU</td>\n",
       "      <td>1610598922</td>\n",
       "    </tr>\n",
       "    <tr>\n",
       "      <th>1</th>\n",
       "      <td>tosya</td>\n",
       "      <td>41.0155</td>\n",
       "      <td>34.0401</td>\n",
       "      <td>3.23</td>\n",
       "      <td>82</td>\n",
       "      <td>100</td>\n",
       "      <td>1.37</td>\n",
       "      <td>TR</td>\n",
       "      <td>1610598922</td>\n",
       "    </tr>\n",
       "    <tr>\n",
       "      <th>2</th>\n",
       "      <td>adre</td>\n",
       "      <td>13.4667</td>\n",
       "      <td>22.2</td>\n",
       "      <td>16.47</td>\n",
       "      <td>30</td>\n",
       "      <td>0</td>\n",
       "      <td>6.83</td>\n",
       "      <td>TD</td>\n",
       "      <td>1610598922</td>\n",
       "    </tr>\n",
       "    <tr>\n",
       "      <th>3</th>\n",
       "      <td>kodiak</td>\n",
       "      <td>57.79</td>\n",
       "      <td>-152.407</td>\n",
       "      <td>-1</td>\n",
       "      <td>86</td>\n",
       "      <td>1</td>\n",
       "      <td>3.57</td>\n",
       "      <td>US</td>\n",
       "      <td>1610598923</td>\n",
       "    </tr>\n",
       "    <tr>\n",
       "      <th>4</th>\n",
       "      <td>sault sainte marie</td>\n",
       "      <td>46.5168</td>\n",
       "      <td>-84.3333</td>\n",
       "      <td>0</td>\n",
       "      <td>93</td>\n",
       "      <td>90</td>\n",
       "      <td>2.06</td>\n",
       "      <td>CA</td>\n",
       "      <td>1610598637</td>\n",
       "    </tr>\n",
       "  </tbody>\n",
       "</table>\n",
       "</div>"
      ],
      "text/plain": [
       "                 City      Lat      Lng Max Temp Humidity Cloudiness  \\\n",
       "0               tiksi  71.6872  128.869   -37.02       84         68   \n",
       "1               tosya  41.0155  34.0401     3.23       82        100   \n",
       "2                adre  13.4667     22.2    16.47       30          0   \n",
       "3              kodiak    57.79 -152.407       -1       86          1   \n",
       "4  sault sainte marie  46.5168 -84.3333        0       93         90   \n",
       "\n",
       "  Wind Speed Country        Date  \n",
       "0       1.64      RU  1610598922  \n",
       "1       1.37      TR  1610598922  \n",
       "2       6.83      TD  1610598922  \n",
       "3       3.57      US  1610598923  \n",
       "4       2.06      CA  1610598637  "
      ]
     },
     "execution_count": 11,
     "metadata": {},
     "output_type": "execute_result"
    }
   ],
   "source": [
    "# Removing columns created by resetting index\n",
    "clean_city_data.drop([\"level_0\", \"index\"], axis = 1, inplace = True)\n",
    "clean_city_data.head()"
   ]
  },
  {
   "cell_type": "code",
   "execution_count": null,
   "metadata": {},
   "outputs": [],
   "source": [
    "\n"
   ]
  },
  {
   "cell_type": "markdown",
   "metadata": {},
   "source": [
    "## Plotting the Data\n",
    "* Use proper labeling of the plots using plot titles (including date of analysis) and axes labels.\n",
    "* Save the plotted figures as .pngs."
   ]
  },
  {
   "cell_type": "markdown",
   "metadata": {},
   "source": [
    "## Latitude vs. Temperature Plot"
   ]
  },
  {
   "cell_type": "code",
   "execution_count": 58,
   "metadata": {
    "scrolled": true
   },
   "outputs": [
    {
     "name": "stdout",
     "output_type": "stream",
     "text": [
      "This graph displays the change in temperature at different latitudes as measured in a random selection of cities across the world. The data indicates that the temperature is heighest at approximately -20° latitude and grows colder at higher and lower latitudes although a lack of cities at the extremely low latitudes makes this cooling hard to view in the figure.\n"
     ]
    },
    {
     "name": "stderr",
     "output_type": "stream",
     "text": [
      "C:\\Users\\Tormentor\\anaconda3\\envs\\PythonData\\lib\\site-packages\\ipykernel_launcher.py:3: MatplotlibDeprecationWarning: Adding an axes using the same arguments as a previous axes currently reuses the earlier instance.  In a future version, a new instance will always be created and returned.  Meanwhile, this warning can be suppressed, and the future behavior ensured, by passing a unique label to each axes instance.\n",
      "  This is separate from the ipykernel package so we can avoid doing imports until\n"
     ]
    },
    {
     "data": {
      "image/png": "[encoded data removed]",
      "text/plain": [
       "<Figure size 432x288 with 1 Axes>"
      ]
     },
     "metadata": {
      "needs_background": "light"
     },
     "output_type": "display_data"
    }
   ],
   "source": [
    "plt.scatter(clean_city_data[\"Lat\"], clean_city_data[\"Max Temp\"])\n",
    "plt.xlabel(\"Latitude\")\n",
    "plt.axes().set_ylabel(\"Temperature (C°)\")\n",
    "plt.title(\"Temperature (C°) in Cities at Different Latitudes (14/1/2021)\")\n",
    "\n",
    "plt.savefig(\"Lat_vs_temp.png\")\n",
    "\n",
    "print(\"This graph displays the change in temperature at different latitudes as measured in a random selection of cities across the world. The data indicates that the temperature is heighest at approximately -20° latitude and grows colder at higher and lower latitudes although a lack of cities at the extremely low latitudes makes this cooling hard to view in the figure.\")"
   ]
  },
  {
   "cell_type": "markdown",
   "metadata": {},
   "source": [
    "## Latitude vs. Humidity Plot"
   ]
  },
  {
   "cell_type": "code",
   "execution_count": 59,
   "metadata": {},
   "outputs": [
    {
     "name": "stdout",
     "output_type": "stream",
     "text": [
      "This graph displays the change in humidity at different latitudes as measured in a random selection of cities across the world. There is no discerable correlation between humidity and latitude in the figure.\n",
      "None\n"
     ]
    },
    {
     "name": "stderr",
     "output_type": "stream",
     "text": [
      "C:\\Users\\Tormentor\\anaconda3\\envs\\PythonData\\lib\\site-packages\\ipykernel_launcher.py:3: MatplotlibDeprecationWarning: Adding an axes using the same arguments as a previous axes currently reuses the earlier instance.  In a future version, a new instance will always be created and returned.  Meanwhile, this warning can be suppressed, and the future behavior ensured, by passing a unique label to each axes instance.\n",
      "  This is separate from the ipykernel package so we can avoid doing imports until\n"
     ]
    },
    {
     "data": {
      "image/png": "[encoded data removed]",
      "text/plain": [
       "<Figure size 432x288 with 1 Axes>"
      ]
     },
     "metadata": {
      "needs_background": "light"
     },
     "output_type": "display_data"
    }
   ],
   "source": [
    "plt.scatter(clean_city_data[\"Lat\"], clean_city_data[\"Humidity\"])\n",
    "plt.xlabel(\"Latitude\")\n",
    "plt.axes().set_ylabel(\"Humidity (%)\")\n",
    "plt.title(\"Humidity (%) in Cities at Different Latitudes (14/1/2021)\")\n",
    "\n",
    "plt.savefig(\"Lat_vs_hum.png\")\n",
    "\n",
    "print(print(\"This graph displays the change in humidity at different latitudes as measured in a random selection of cities across the world. There is no discerable correlation between humidity and latitude in the figure.\"))"
   ]
  },
  {
   "cell_type": "markdown",
   "metadata": {},
   "source": [
    "## Latitude vs. Cloudiness Plot"
   ]
  },
  {
   "cell_type": "code",
   "execution_count": 60,
   "metadata": {},
   "outputs": [
    {
     "name": "stdout",
     "output_type": "stream",
     "text": [
      "This graph displays the change in cloudiness at different latitudes as measured in a random selection of cities across the world. There is no discerable correlation between cloudiness and latitude in the figure.\n"
     ]
    },
    {
     "name": "stderr",
     "output_type": "stream",
     "text": [
      "C:\\Users\\Tormentor\\anaconda3\\envs\\PythonData\\lib\\site-packages\\ipykernel_launcher.py:3: MatplotlibDeprecationWarning: Adding an axes using the same arguments as a previous axes currently reuses the earlier instance.  In a future version, a new instance will always be created and returned.  Meanwhile, this warning can be suppressed, and the future behavior ensured, by passing a unique label to each axes instance.\n",
      "  This is separate from the ipykernel package so we can avoid doing imports until\n"
     ]
    },
    {
     "data": {
      "image/png": "[encoded data removed]",
      "text/plain": [
       "<Figure size 432x288 with 1 Axes>"
      ]
     },
     "metadata": {
      "needs_background": "light"
     },
     "output_type": "display_data"
    }
   ],
   "source": [
    "plt.scatter(clean_city_data[\"Lat\"], clean_city_data[\"Cloudiness\"])\n",
    "plt.xlabel(\"Latitude\")\n",
    "plt.axes().set_ylabel(\"Cloudiness (%)\")\n",
    "plt.title(\"Cloudiness (%) in Cities at Different Latitudes (14/1/2021)\")\n",
    "\n",
    "plt.savefig(\"Lat_vs_cloud.png\")\n",
    "\n",
    "print(\"This graph displays the change in cloudiness at different latitudes as measured in a random selection of cities across the world. There is no discerable correlation between cloudiness and latitude in the figure.\")"
   ]
  },
  {
   "cell_type": "markdown",
   "metadata": {},
   "source": [
    "## Latitude vs. Wind Speed Plot"
   ]
  },
  {
   "cell_type": "code",
   "execution_count": 61,
   "metadata": {},
   "outputs": [
    {
     "name": "stdout",
     "output_type": "stream",
     "text": [
      "This graph displays the change in wing speed at different latitudes as measured in a random selection of cities across the world. There is no discerable correlation between wind speed and latitude in the figure.\n"
     ]
    },
    {
     "name": "stderr",
     "output_type": "stream",
     "text": [
      "C:\\Users\\Tormentor\\anaconda3\\envs\\PythonData\\lib\\site-packages\\ipykernel_launcher.py:3: MatplotlibDeprecationWarning: Adding an axes using the same arguments as a previous axes currently reuses the earlier instance.  In a future version, a new instance will always be created and returned.  Meanwhile, this warning can be suppressed, and the future behavior ensured, by passing a unique label to each axes instance.\n",
      "  This is separate from the ipykernel package so we can avoid doing imports until\n"
     ]
    },
    {
     "data": {
      "image/png": "[encoded data removed]",
      "text/plain": [
       "<Figure size 432x288 with 1 Axes>"
      ]
     },
     "metadata": {
      "needs_background": "light"
     },
     "output_type": "display_data"
    }
   ],
   "source": [
    "plt.scatter(clean_city_data[\"Lat\"], clean_city_data[\"Wind Speed\"])\n",
    "plt.xlabel(\"Latitude\")\n",
    "plt.axes().set_ylabel(\"Wind Speed (km/h)\")\n",
    "plt.title(\"Wind Speed (km/h) in Cities at Different Latitudes (14/1/2021)\")\n",
    "\n",
    "plt.savefig(\"Lat_vs_wind.png\")\n",
    "\n",
    "print(\"This graph displays the change in wing speed at different latitudes as measured in a random selection of cities across the world. There is no discerable correlation between wind speed and latitude in the figure.\")"
   ]
  },
  {
   "cell_type": "markdown",
   "metadata": {},
   "source": [
    "## Linear Regression"
   ]
  },
  {
   "cell_type": "code",
   "execution_count": 62,
   "metadata": {},
   "outputs": [],
   "source": [
    "southern_data = clean_city_data[clean_city_data[\"Lat\"] < 0]\n",
    "northern_data = clean_city_data[clean_city_data[\"Lat\"] >= 0]\n",
    "\n",
    "Latitude_n = list(northern_data[\"Lat\"])\n",
    "Temp_n = list(northern_data[\"Max Temp\"])\n",
    "Humidity_n = list(northern_data[\"Humidity\"])\n",
    "Cloudiness_n = list(northern_data[\"Cloudiness\"])\n",
    "Wind_n = list(northern_data[\"Wind Speed\"])\n",
    "\n",
    "Latitude_s = list(southern_data[\"Lat\"])\n",
    "Temp_s = list(southern_data[\"Max Temp\"])\n",
    "Humidity_s = list(southern_data[\"Humidity\"])\n",
    "Cloudiness_s = list(southern_data[\"Cloudiness\"])\n",
    "Wind_s = list(southern_data[\"Wind Speed\"])"
   ]
  },
  {
   "cell_type": "markdown",
   "metadata": {},
   "source": [
    "####  Northern Hemisphere - Max Temp vs. Latitude Linear Regression"
   ]
  },
  {
   "cell_type": "code",
   "execution_count": 63,
   "metadata": {},
   "outputs": [
    {
     "name": "stdout",
     "output_type": "stream",
     "text": [
      "The r-squared value is 0.75 this indicates a strong negative correlation between latitude and temperature in the northern hemisphere (i.e. it gets colder the further north of the equator you travel).\n"
     ]
    },
    {
     "name": "stderr",
     "output_type": "stream",
     "text": [
      "C:\\Users\\Tormentor\\anaconda3\\envs\\PythonData\\lib\\site-packages\\ipykernel_launcher.py:8: MatplotlibDeprecationWarning: Adding an axes using the same arguments as a previous axes currently reuses the earlier instance.  In a future version, a new instance will always be created and returned.  Meanwhile, this warning can be suppressed, and the future behavior ensured, by passing a unique label to each axes instance.\n",
      "  \n"
     ]
    },
    {
     "data": {
      "image/png": "[encoded data removed]",
      "text/plain": [
       "<Figure size 432x288 with 1 Axes>"
      ]
     },
     "metadata": {
      "needs_background": "light"
     },
     "output_type": "display_data"
    }
   ],
   "source": [
    "(slope, intercept, rvalue, pvalue, stderr) = st.linregress(Latitude_n, Temp_n)\n",
    "regress_values = pd.Series(Latitude_n) * slope + intercept\n",
    "line_eq = \"y = \" + str(round(slope,2)) + \"x + \" + str(round(intercept,2))\n",
    "plt.plot(Latitude_n, regress_values, color = \"r\")\n",
    "plt.annotate(line_eq,(10,-20),fontsize=15,color=\"red\")\n",
    "plt.scatter(Latitude_n, northern_data[\"Max Temp\"])\n",
    "plt.xlabel(\"Latitude\")\n",
    "plt.axes().set_ylabel(\"Temperature (C°)\")\n",
    "plt.title(\"Temperature (C°) in Cities Across Northern Latitudes (14/1/2021)\")\n",
    "\n",
    "plt.savefig(\"Latn_vs_temp.png\")\n",
    "\n",
    "print(f\"The r-squared value is {round(rvalue**2, 2)} this indicates a strong negative correlation between latitude and temperature in the northern hemisphere (i.e. it gets colder the further north of the equator you travel).\")"
   ]
  },
  {
   "cell_type": "markdown",
   "metadata": {},
   "source": [
    "####  Southern Hemisphere - Max Temp vs. Latitude Linear Regression"
   ]
  },
  {
   "cell_type": "code",
   "execution_count": 64,
   "metadata": {},
   "outputs": [
    {
     "name": "stdout",
     "output_type": "stream",
     "text": [
      "The r-squared value is 0.22 this indicates that there is a weak positive correlation between latitude and temperature in the southern hemisphere. The discrepancy between this and the results seen in the northern hemisphere may be due to the fact that not many cities exist in the far southern areas of the earth meaning that this end of the data was left unrepresented.\n"
     ]
    },
    {
     "name": "stderr",
     "output_type": "stream",
     "text": [
      "C:\\Users\\Tormentor\\anaconda3\\envs\\PythonData\\lib\\site-packages\\ipykernel_launcher.py:8: MatplotlibDeprecationWarning: Adding an axes using the same arguments as a previous axes currently reuses the earlier instance.  In a future version, a new instance will always be created and returned.  Meanwhile, this warning can be suppressed, and the future behavior ensured, by passing a unique label to each axes instance.\n",
      "  \n"
     ]
    },
    {
     "data": {
      "image/png": "[encoded data removed]",
      "text/plain": [
       "<Figure size 432x288 with 1 Axes>"
      ]
     },
     "metadata": {
      "needs_background": "light"
     },
     "output_type": "display_data"
    }
   ],
   "source": [
    "(slope, intercept, rvalue, pvalue, stderr) = st.linregress(Latitude_s, Temp_s)\n",
    "regress_values = pd.Series(Latitude_s) * slope + intercept\n",
    "line_eq = \"y = \" + str(round(slope,2)) + \"x + \" + str(round(intercept,2))\n",
    "plt.plot(Latitude_s, regress_values, color = \"r\")\n",
    "plt.annotate(line_eq,(-55,25),fontsize=15,color=\"red\")\n",
    "plt.scatter(southern_data[\"Lat\"], southern_data[\"Max Temp\"])\n",
    "plt.xlabel(\"Latitude\")\n",
    "plt.axes().set_ylabel(\"Temperature (C°)\")\n",
    "plt.title(\"Temperature (C°) in Cities Across Southern Latitudes (14/1/2021)\")\n",
    "\n",
    "plt.savefig(\"Lats_vs_temp.png\")\n",
    "\n",
    "print(f\"The r-squared value is {round(rvalue**2, 2)} this indicates that there is a weak positive correlation between latitude and temperature in the southern hemisphere. The discrepancy between this and the results seen in the northern hemisphere may be due to the fact that not many cities exist in the far southern areas of the earth meaning that this end of the data was left unrepresented.\")"
   ]
  },
  {
   "cell_type": "markdown",
   "metadata": {},
   "source": [
    "####  Northern Hemisphere - Humidity (%) vs. Latitude Linear Regression"
   ]
  },
  {
   "cell_type": "code",
   "execution_count": 65,
   "metadata": {},
   "outputs": [
    {
     "name": "stdout",
     "output_type": "stream",
     "text": [
      "The r-squared value is 0.17 this indicates a weak positive correlation between humidity and latitude in the northern hemisphere. Given the data it is impossible to suggest that there is a relationship between these two variables.\n"
     ]
    },
    {
     "name": "stderr",
     "output_type": "stream",
     "text": [
      "C:\\Users\\Tormentor\\anaconda3\\envs\\PythonData\\lib\\site-packages\\ipykernel_launcher.py:8: MatplotlibDeprecationWarning: Adding an axes using the same arguments as a previous axes currently reuses the earlier instance.  In a future version, a new instance will always be created and returned.  Meanwhile, this warning can be suppressed, and the future behavior ensured, by passing a unique label to each axes instance.\n",
      "  \n"
     ]
    },
    {
     "data": {
      "image/png": "[encoded data removed]",
      "text/plain": [
       "<Figure size 432x288 with 1 Axes>"
      ]
     },
     "metadata": {
      "needs_background": "light"
     },
     "output_type": "display_data"
    }
   ],
   "source": [
    "(slope, intercept, rvalue, pvalue, stderr) = st.linregress(Latitude_n, Humidity_n)\n",
    "regress_values = pd.Series(Latitude_n) * slope + intercept\n",
    "line_eq = \"y = \" + str(round(slope,2)) + \"x + \" + str(round(intercept,2))\n",
    "plt.plot(Latitude_n, regress_values, color = \"r\")\n",
    "plt.annotate(line_eq,(40,40),fontsize=15,color=\"red\")\n",
    "plt.scatter(northern_data[\"Lat\"], northern_data[\"Humidity\"])\n",
    "plt.xlabel(\"Latitude\")\n",
    "plt.axes().set_ylabel(\"Humidity (%)\")\n",
    "plt.title(\"Humidity (%) in Cities Across Northern Latitudes (14/1/2021)\")\n",
    "\n",
    "plt.savefig(\"Latn_vs_hum.png\")\n",
    "\n",
    "print(f\"The r-squared value is {round(rvalue**2, 2)} this indicates a weak positive correlation between humidity and latitude in the northern hemisphere. Given the data it is impossible to suggest that there is a relationship between these two variables.\")"
   ]
  },
  {
   "cell_type": "markdown",
   "metadata": {},
   "source": [
    "####  Southern Hemisphere - Humidity (%) vs. Latitude Linear Regression"
   ]
  },
  {
   "cell_type": "code",
   "execution_count": 66,
   "metadata": {},
   "outputs": [
    {
     "name": "stdout",
     "output_type": "stream",
     "text": [
      "The r-squared value is 0.04 this indicates a very weak positive correlation between humidity and latitude in the southern hemisphere. Given the data it is impossible to suggest that there is a relationship between these two variables.\n"
     ]
    },
    {
     "name": "stderr",
     "output_type": "stream",
     "text": [
      "C:\\Users\\Tormentor\\anaconda3\\envs\\PythonData\\lib\\site-packages\\ipykernel_launcher.py:8: MatplotlibDeprecationWarning: Adding an axes using the same arguments as a previous axes currently reuses the earlier instance.  In a future version, a new instance will always be created and returned.  Meanwhile, this warning can be suppressed, and the future behavior ensured, by passing a unique label to each axes instance.\n",
      "  \n"
     ]
    },
    {
     "data": {
      "image/png": "[encoded data removed]",
      "text/plain": [
       "<Figure size 432x288 with 1 Axes>"
      ]
     },
     "metadata": {
      "needs_background": "light"
     },
     "output_type": "display_data"
    }
   ],
   "source": [
    "(slope, intercept, rvalue, pvalue, stderr) = st.linregress(Latitude_s, Humidity_s)\n",
    "regress_values = pd.Series(Latitude_s) * slope + intercept\n",
    "line_eq = \"y = \" + str(round(slope,2)) + \"x + \" + str(round(intercept,2))\n",
    "plt.plot(Latitude_s, regress_values, color = \"r\")\n",
    "plt.annotate(line_eq,(-30,40),fontsize=15,color=\"red\")\n",
    "plt.scatter(southern_data[\"Lat\"], southern_data[\"Humidity\"])\n",
    "plt.xlabel(\"Latitude\")\n",
    "plt.axes().set_ylabel(\"Humidity (%)\")\n",
    "plt.title(\"Humidity (%) in Cities Across Southern Latitudes (14/1/2021)\")\n",
    "\n",
    "plt.savefig(\"Lats_vs_hum.png\")\n",
    "\n",
    "print(f\"The r-squared value is {round(rvalue**2, 2)} this indicates a very weak positive correlation between humidity and latitude in the southern hemisphere. Given the data it is impossible to suggest that there is a relationship between these two variables.\")"
   ]
  },
  {
   "cell_type": "markdown",
   "metadata": {},
   "source": [
    "####  Northern Hemisphere - Cloudiness (%) vs. Latitude Linear Regression"
   ]
  },
  {
   "cell_type": "code",
   "execution_count": 67,
   "metadata": {},
   "outputs": [
    {
     "name": "stdout",
     "output_type": "stream",
     "text": [
      "The r-squared value is 0.1 this indicates a very weak positive correlation between cloudiness and latitude in the northern hemisphere. Given the data it is impossible to suggest that there is a relationship between these two variables.\n"
     ]
    },
    {
     "name": "stderr",
     "output_type": "stream",
     "text": [
      "C:\\Users\\Tormentor\\anaconda3\\envs\\PythonData\\lib\\site-packages\\ipykernel_launcher.py:8: MatplotlibDeprecationWarning: Adding an axes using the same arguments as a previous axes currently reuses the earlier instance.  In a future version, a new instance will always be created and returned.  Meanwhile, this warning can be suppressed, and the future behavior ensured, by passing a unique label to each axes instance.\n",
      "  \n"
     ]
    },
    {
     "data": {
      "image/png": "[encoded data removed]",
      "text/plain": [
       "<Figure size 432x288 with 1 Axes>"
      ]
     },
     "metadata": {
      "needs_background": "light"
     },
     "output_type": "display_data"
    }
   ],
   "source": [
    "(slope, intercept, rvalue, pvalue, stderr) = st.linregress(Latitude_n, Cloudiness_n)\n",
    "regress_values = pd.Series(Latitude_n) * slope + intercept\n",
    "line_eq = \"y = \" + str(round(slope,2)) + \"x + \" + str(round(intercept,2))\n",
    "plt.plot(Latitude_n, regress_values, color = \"r\")\n",
    "plt.annotate(line_eq,(10,20),fontsize=15,color=\"red\")\n",
    "plt.scatter(northern_data[\"Lat\"], northern_data[\"Cloudiness\"])\n",
    "plt.xlabel(\"Latitude\")\n",
    "plt.axes().set_ylabel(\"Cloudiness (%)\")\n",
    "plt.title(\"Cloudiness (%) in Cities at Different Latitudes (14/1/2021)\")\n",
    "\n",
    "plt.savefig(\"Latn_vs_cloud.png\")\n",
    "\n",
    "print(f\"The r-squared value is {round(rvalue**2, 2)} this indicates a very weak positive correlation between cloudiness and latitude in the northern hemisphere. Given the data it is impossible to suggest that there is a relationship between these two variables.\")"
   ]
  },
  {
   "cell_type": "markdown",
   "metadata": {},
   "source": [
    "####  Southern Hemisphere - Cloudiness (%) vs. Latitude Linear Regression"
   ]
  },
  {
   "cell_type": "code",
   "execution_count": 69,
   "metadata": {},
   "outputs": [
    {
     "name": "stdout",
     "output_type": "stream",
     "text": [
      "The r-squared value is 0.18 this indicates a weak positive correlation between cloudiness and latitude in the southern hemisphere. Given the data it is impossible to suggest that there is a relationship between these two variables.\n"
     ]
    },
    {
     "name": "stderr",
     "output_type": "stream",
     "text": [
      "C:\\Users\\Tormentor\\anaconda3\\envs\\PythonData\\lib\\site-packages\\ipykernel_launcher.py:8: MatplotlibDeprecationWarning: Adding an axes using the same arguments as a previous axes currently reuses the earlier instance.  In a future version, a new instance will always be created and returned.  Meanwhile, this warning can be suppressed, and the future behavior ensured, by passing a unique label to each axes instance.\n",
      "  \n"
     ]
    },
    {
     "data": {
      "image/png": "[encoded data removed]",
      "text/plain": [
       "<Figure size 432x288 with 1 Axes>"
      ]
     },
     "metadata": {
      "needs_background": "light"
     },
     "output_type": "display_data"
    }
   ],
   "source": [
    "(slope, intercept, rvalue, pvalue, stderr) = st.linregress(Latitude_s, Cloudiness_s)\n",
    "regress_values = pd.Series(Latitude_s) * slope + intercept\n",
    "line_eq = \"y = \" + str(round(slope,2)) + \"x + \" + str(round(intercept,2))\n",
    "plt.plot(Latitude_s, regress_values, color = \"r\")\n",
    "plt.annotate(line_eq,(-50,55),fontsize=15,color=\"red\")\n",
    "plt.scatter(southern_data[\"Lat\"], southern_data[\"Cloudiness\"])\n",
    "plt.xlabel(\"Latitude\")\n",
    "plt.axes().set_ylabel(\"Cloudiness (%)\")\n",
    "plt.title(\"Cloudiness (%) in Cities at Different Latitudes (14/1/2021)\")\n",
    "\n",
    "plt.savefig(\"Lats_vs_cloud.png\")\n",
    "\n",
    "print(f\"The r-squared value is {round(rvalue**2, 2)} this indicates a weak positive correlation between cloudiness and latitude in the southern hemisphere. Given the data it is impossible to suggest that there is a relationship between these two variables.\")"
   ]
  },
  {
   "cell_type": "markdown",
   "metadata": {},
   "source": [
    "####  Northern Hemisphere - Wind Speed (mph) vs. Latitude Linear Regression"
   ]
  },
  {
   "cell_type": "code",
   "execution_count": 71,
   "metadata": {},
   "outputs": [
    {
     "name": "stdout",
     "output_type": "stream",
     "text": [
      "The r-squared value is 0.01 this indicates an extremely weak positive correlation between wind speed and latitude in the northern hemisphere. Given the data it is impossible to suggest that there is a relationship between these two variables.\n"
     ]
    },
    {
     "name": "stderr",
     "output_type": "stream",
     "text": [
      "C:\\Users\\Tormentor\\anaconda3\\envs\\PythonData\\lib\\site-packages\\ipykernel_launcher.py:8: MatplotlibDeprecationWarning: Adding an axes using the same arguments as a previous axes currently reuses the earlier instance.  In a future version, a new instance will always be created and returned.  Meanwhile, this warning can be suppressed, and the future behavior ensured, by passing a unique label to each axes instance.\n",
      "  \n"
     ]
    },
    {
     "data": {
      "image/png": "[encoded data removed]",
      "text/plain": [
       "<Figure size 432x288 with 1 Axes>"
      ]
     },
     "metadata": {
      "needs_background": "light"
     },
     "output_type": "display_data"
    }
   ],
   "source": [
    "(slope, intercept, rvalue, pvalue, stderr) = st.linregress(Latitude_n, Wind_n)\n",
    "regress_values = pd.Series(Latitude_n) * slope + intercept\n",
    "line_eq = \"y = \" + str(round(slope,2)) + \"x + \" + str(round(intercept,2))\n",
    "plt.plot(Latitude_n, regress_values, color = \"r\")\n",
    "plt.annotate(line_eq,(10,10),fontsize=15,color=\"red\")\n",
    "plt.scatter(northern_data[\"Lat\"], northern_data[\"Wind Speed\"])\n",
    "plt.xlabel(\"Latitude\")\n",
    "plt.axes().set_ylabel(\"Wind Speed (km/h)\")\n",
    "plt.title(\"Wind Speed (km/h) in Cities Across Northern Latitudes (14/1/2021)\")\n",
    "\n",
    "plt.savefig(\"Latn_vs_wind.png\")\n",
    "\n",
    "print(f\"The r-squared value is {round(rvalue**2, 2)} this indicates an extremely weak positive correlation between wind speed and latitude in the northern hemisphere. Given the data it is impossible to suggest that there is a relationship between these two variables.\")"
   ]
  },
  {
   "cell_type": "markdown",
   "metadata": {},
   "source": [
    "####  Southern Hemisphere - Wind Speed (mph) vs. Latitude Linear Regression"
   ]
  },
  {
   "cell_type": "code",
   "execution_count": 72,
   "metadata": {},
   "outputs": [
    {
     "name": "stdout",
     "output_type": "stream",
     "text": [
      "The r-squared value is 0.05 this indicates a very weak negative correlation between wind speed and latitude in the southern hemisphere. Given the data it is impossible to suggest that there is a relationship between these two variables.\n"
     ]
    },
    {
     "name": "stderr",
     "output_type": "stream",
     "text": [
      "C:\\Users\\Tormentor\\anaconda3\\envs\\PythonData\\lib\\site-packages\\ipykernel_launcher.py:8: MatplotlibDeprecationWarning: Adding an axes using the same arguments as a previous axes currently reuses the earlier instance.  In a future version, a new instance will always be created and returned.  Meanwhile, this warning can be suppressed, and the future behavior ensured, by passing a unique label to each axes instance.\n",
      "  \n"
     ]
    },
    {
     "data": {
      "image/png": "[encoded data removed]",
      "text/plain": [
       "<Figure size 432x288 with 1 Axes>"
      ]
     },
     "metadata": {
      "needs_background": "light"
     },
     "output_type": "display_data"
    }
   ],
   "source": [
    "(slope, intercept, rvalue, pvalue, stderr) = st.linregress(Latitude_s, Wind_s)\n",
    "regress_values = pd.Series(Latitude_s) * slope + intercept\n",
    "line_eq = \"y = \" + str(round(slope,2)) + \"x + \" + str(round(intercept,2))\n",
    "plt.plot(Latitude_s, regress_values, color = \"r\")\n",
    "plt.annotate(line_eq,(-50,10),fontsize=15,color=\"red\")\n",
    "plt.scatter(southern_data[\"Lat\"], southern_data[\"Wind Speed\"])\n",
    "plt.xlabel(\"Latitude\")\n",
    "plt.axes().set_ylabel(\"Wind Speed (km/h)\")\n",
    "plt.title(\"Wind Speed (km/h) in Cities Across Southern Latitudes (14/1/2021)\")\n",
    "\n",
    "plt.savefig(\"Lats_vs_wind.png\")\n",
    "\n",
    "print(f\"The r-squared value is {round(rvalue**2, 2)} this indicates a very weak negative correlation between wind speed and latitude in the southern hemisphere. Given the data it is impossible to suggest that there is a relationship between these two variables.\")"
   ]
  },
  {
   "cell_type": "code",
   "execution_count": 76,
   "metadata": {},
   "outputs": [
    {
     "name": "stdout",
     "output_type": "stream",
     "text": [
      "Three conclusions reached from the data:\n",
      "\n",
      "1. The climate gets cooler the further north of the equator you travel\n",
      "2. The climate may get cooler the further south of the equator you travel\n",
      "3. The southern hemisphere is currently warmer than the northern hemisphere; this may be due to the time of year in which the weather data was accessed (14/1/2021). Data displaying yearly average temperature may have been more appropriate for this analysis.\n"
     ]
    }
   ],
   "source": [
    "print(\"Three conclusions reached from the data:\")\n",
    "print(\"\")\n",
    "print(\"1. The climate gets cooler the further north of the equator you travel\")\n",
    "print(\"2. The climate may get cooler the further south of the equator you travel\")\n",
    "print(\"3. The southern hemisphere is currently warmer than the northern hemisphere; this may be due to the time of year in which the weather data was accessed (14/1/2021). Data displaying yearly average temperature may have been more appropriate for this analysis.\")"
   ]
  },
  {
   "cell_type": "code",
   "execution_count": null,
   "metadata": {},
   "outputs": [],
   "source": []
  }
 ],
 "metadata": {
  "anaconda-cloud": {},
  "kernel_info": {
   "name": "python3"
  },
  "kernelspec": {
   "display_name": "Python 3",
   "language": "python",
   "name": "python3"
  },
  "language_info": {
   "codemirror_mode": {
    "name": "ipython",
    "version": 3
   },
   "file_extension": ".py",
   "mimetype": "text/x-python",
   "name": "python",
   "nbconvert_exporter": "python",
   "pygments_lexer": "ipython3",
   "version": "3.6.10"
  },
  "latex_envs": {
   "LaTeX_envs_menu_present": true,
   "autoclose": false,
   "autocomplete": true,
   "bibliofile": "biblio.bib",
   "cite_by": "apalike",
   "current_citInitial": 1,
   "eqLabelWithNumbers": true,
   "eqNumInitial": 1,
   "hotkeys": {
    "equation": "Ctrl-E",
    "itemize": "Ctrl-I"
   },
   "labels_anchors": false,
   "latex_user_defs": false,
   "report_style_numbering": false,
   "user_envs_cfg": false
  },
  "nteract": {
   "version": "0.12.3"
  }
 },
 "nbformat": 4,
 "nbformat_minor": 2
}
